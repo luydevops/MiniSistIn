{
  "cells": [
    {
      "cell_type": "markdown",
      "metadata": {
        "id": "view-in-github",
        "colab_type": "text"
      },
      "source": [
        "<a href=\"https://colab.research.google.com/github/luydevops/MiniSistIn/blob/main/Te_damos_la_bienvenida_a_Colaboratory.ipynb\" target=\"_parent\"><img src=\"https://colab.research.google.com/assets/colab-badge.svg\" alt=\"Open In Colab\"/></a>"
      ]
    },
    {
      "cell_type": "code",
      "source": [
        "def procesar_lista(data):\n",
        "    resultados = []\n",
        "    for item in data:\n",
        "        if isinstance(item, (int, float)):\n",
        "            resultados.append(item * 2)\n",
        "        elif isinstance(item, str):\n",
        "            resultados.append(item.upper())\n",
        "    return resultados\n",
        "\n",
        "mi_lista = [1, \"hola\", 3.14, \"mundo\", 5]\n",
        "resultado_final = procesar_lista(mi_lista)\n",
        "print(resultado_final)\n"
      ],
      "metadata": {
        "id": "Sgv0Wec_G02F",
        "outputId": "d225f030-5b49-4795-ee6a-71ec217d533f",
        "colab": {
          "base_uri": "https://localhost:8080/"
        }
      },
      "execution_count": 1,
      "outputs": [
        {
          "output_type": "stream",
          "name": "stdout",
          "text": [
            "[2, 'HOLA', 6.28, 'MUNDO', 10]\n"
          ]
        }
      ]
    },
    {
      "cell_type": "code",
      "source": [
        "import re\n",
        "\n",
        "def encontrar_palabras_comunes(texto1, texto2):\n",
        "    \"\"\"\n",
        "    Encuentra las palabras comunes en dos cadenas de texto.\n",
        "\n",
        "    Args:\n",
        "        texto1 (str): La primera cadena de texto.\n",
        "        texto2 (str): La segunda cadena de texto.\n",
        "\n",
        "    Returns:\n",
        "        list: Una lista de palabras comunes.\n",
        "    \"\"\"\n",
        "\n",
        "    # Eliminar signos de puntuación y convertir a minúsculas\n",
        "    texto1_limpio = re.sub(r'[^\\w\\s]', '', texto1).lower()\n",
        "    texto2_limpio = re.sub(r'[^\\w\\s]', '', texto2).lower()\n",
        "\n",
        "    # Dividir las cadenas en listas de palabras\n",
        "    palabras1 = texto1_limpio.split()\n",
        "    palabras2 = texto2_limpio.split()\n",
        "\n",
        "    # Encontrar las palabras comunes\n",
        "    palabras_comunes = list(set(palabras1) & set(palabras2))\n",
        "\n",
        "    return palabras_comunes\n",
        "\n",
        "# Ejemplo de uso\n",
        "texto1 = \"Hola, mundo! Python es genial.\"\n",
        "texto2 = \"Python es un lenguaje poderoso, hola mundo.\"\n",
        "\n",
        "comunes = encontrar_palabras_comunes(texto1, texto2)\n",
        "print(comunes)  # Salida: ['hola', 'mundo', 'python', 'es']"
      ],
      "metadata": {
        "id": "pI3-wpEuOyCT",
        "outputId": "1ec69cf8-43c3-403b-bb44-1d213e43a58d",
        "colab": {
          "base_uri": "https://localhost:8080/"
        }
      },
      "execution_count": 2,
      "outputs": [
        {
          "output_type": "stream",
          "name": "stdout",
          "text": [
            "['python', 'es', 'mundo', 'hola']\n"
          ]
        }
      ]
    }
  ],
  "metadata": {
    "colab": {
      "name": "Te damos la bienvenida a Colaboratory",
      "toc_visible": true,
      "provenance": [],
      "include_colab_link": true
    },
    "kernelspec": {
      "display_name": "Python 3",
      "name": "python3"
    }
  },
  "nbformat": 4,
  "nbformat_minor": 0
}